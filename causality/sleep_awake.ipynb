{
 "cells": [
  {
   "cell_type": "markdown",
   "metadata": {},
   "source": [
    "# Split data\n",
    "divide the data into sleep part and awake part"
   ]
  },
  {
   "cell_type": "code",
   "execution_count": 2,
   "metadata": {},
   "outputs": [
    {
     "name": "stdout",
     "output_type": "stream",
     "text": [
      "Import finished!\n"
     ]
    }
   ],
   "source": [
    "import time\n",
    "import datetime\n",
    "import numpy as np\n",
    "import pandas as pd\n",
    "import matplotlib.pyplot as plt\n",
    "import seaborn as sb\n",
    "\n",
    "print (\"Import finished!\")"
   ]
  },
  {
   "cell_type": "markdown",
   "metadata": {},
   "source": [
    "## define some functions"
   ]
  },
  {
   "cell_type": "code",
   "execution_count": 18,
   "metadata": {},
   "outputs": [],
   "source": [
    "def sizeof_fmt(num, suffix='B'):\n",
    "    '''output data sizes in a nice way, i.e. B, KiB, MiB, GiB, ...\n",
    "    by Fred Cirera,  https://stackoverflow.com/a/1094933/1870254,\n",
    "    modified'''\n",
    "    for unit in ['', 'Ki', 'Mi', 'Gi', 'Ti', 'Pi', 'Ei', 'Zi']:\n",
    "        if abs(num) < 1024.0:\n",
    "            return \"%3.1f %s%s\" % (num, unit, suffix)\n",
    "        num /= 1024.0\n",
    "    return \"%.1f %s%s\" % (num, 'Yi', suffix)\n",
    "\n",
    "def readMiceData(batch, name):\n",
    "    print('{}/batch{}/{}.Activity.txt'.format(path, batch, name))\n",
    "    print('{}/batch{}/{}.Temperature.txt'.format(path, batch, name))\n",
    "    a = np.genfromtxt('{}/batch{}/{}.Activity.txt'.format(path, batch, name))\n",
    "    b = np.genfromtxt('{}/batch{}/{}.Temperature.txt'.format(path, batch, name))\n",
    "\n",
    "    if a[0,0] != b[0,0]:\n",
    "        start = max(a[0,0], b[0,0])\n",
    "    else:\n",
    "        start = a[0,0]\n",
    "    if a[-1,0] != b[-1,0]:\n",
    "        end = min(a[-1,0], b[-1,0])\n",
    "    else:\n",
    "        end = a[-1,0]\n",
    "\n",
    "    a = a[(a[:,0]<=end)]\n",
    "    a = a[(a[:,0]>=start)]\n",
    "    b = b[(b[:,0]<=end)]\n",
    "    b = b[(b[:,0]>=start)]\n",
    "    \n",
    "    return a, b"
   ]
  },
  {
   "cell_type": "markdown",
   "metadata": {},
   "source": [
    "## Read the meta data"
   ]
  },
  {
   "cell_type": "code",
   "execution_count": 19,
   "metadata": {},
   "outputs": [],
   "source": [
    "# Readin the meta data\n",
    "path = '.'\n",
    "metaData = pd.read_csv(\"./mice\", index_col=0)"
   ]
  },
  {
   "cell_type": "code",
   "execution_count": 29,
   "metadata": {},
   "outputs": [
    {
     "name": "stdout",
     "output_type": "stream",
     "text": [
      "12Otx2\n",
      "./batch3/12Otx2.Activity.txt\n",
      "./batch3/12Otx2.Temperature.txt\n",
      "56Otx2\n",
      "./batch3/56Otx2.Activity.txt\n",
      "./batch3/56Otx2.Temperature.txt\n",
      "73Otx2\n",
      "./batch3/73Otx2.Activity.txt\n",
      "./batch3/73Otx2.Temperature.txt\n",
      "84Otx2\n",
      "./batch3/84Otx2.Activity.txt\n",
      "./batch3/84Otx2.Temperature.txt\n",
      "82WT\n",
      "./batch3/82WT.Activity.txt\n",
      "./batch3/82WT.Temperature.txt\n",
      "83WT\n",
      "./batch3/83WT.Activity.txt\n",
      "./batch3/83WT.Temperature.txt\n",
      "51M\n",
      "./batch5/51M.Activity.txt\n",
      "./batch5/51M.Temperature.txt\n",
      "52M\n",
      "./batch5/52M.Activity.txt\n",
      "./batch5/52M.Temperature.txt\n",
      "54M\n",
      "./batch5/54M.Activity.txt\n",
      "./batch5/54M.Temperature.txt\n",
      "56M\n",
      "./batch5/56M.Activity.txt\n",
      "./batch5/56M.Temperature.txt\n",
      "58M\n",
      "./batch5/58M.Activity.txt\n",
      "./batch5/58M.Temperature.txt\n",
      "53\n",
      "./batch5/53.Activity.txt\n",
      "./batch5/53.Temperature.txt\n",
      "55\n",
      "./batch5/55.Activity.txt\n",
      "./batch5/55.Temperature.txt\n",
      "57\n",
      "./batch5/57.Activity.txt\n",
      "./batch5/57.Temperature.txt\n",
      "68M\n",
      "./batch6/68M.Activity.txt\n",
      "./batch6/68M.Temperature.txt\n",
      "62M\n",
      "./batch6/62M.Activity.txt\n",
      "./batch6/62M.Temperature.txt\n",
      "64M\n",
      "./batch6/64M.Activity.txt\n",
      "./batch6/64M.Temperature.txt\n",
      "61\n",
      "./batch6/61.Activity.txt\n",
      "./batch6/61.Temperature.txt\n",
      "63\n",
      "./batch6/63.Activity.txt\n",
      "./batch6/63.Temperature.txt\n",
      "65\n",
      "./batch6/65.Activity.txt\n",
      "./batch6/65.Temperature.txt\n",
      "67\n",
      "./batch6/67.Activity.txt\n",
      "./batch6/67.Temperature.txt\n"
     ]
    }
   ],
   "source": [
    "database = {}\n",
    "for mouse in metaData.index: \n",
    "    print (mouse)\n",
    "    batch = metaData.loc[mouse, 'batch']\n",
    "    act, temp = readMiceData(batch, mouse)\n",
    "    database[mouse] = [act, temp]"
   ]
  },
  {
   "cell_type": "code",
   "execution_count": 25,
   "metadata": {},
   "outputs": [
    {
     "data": {
      "text/plain": [
       "3"
      ]
     },
     "execution_count": 25,
     "metadata": {},
     "output_type": "execute_result"
    }
   ],
   "source": [
    "metaData.loc['12Otx2', 'batch']"
   ]
  },
  {
   "cell_type": "code",
   "execution_count": 31,
   "metadata": {},
   "outputs": [
    {
     "name": "stdout",
     "output_type": "stream",
     "text": [
      "./batch3/12Otx2.Activity.txt\n",
      "./batch3/12Otx2.Temperature.txt\n"
     ]
    }
   ],
   "source": [
    "path = '.'\n",
    "batch = 3\n",
    "mouse = '12Otx2'\n",
    "act, temp = readMiceData(batch, mouse)"
   ]
  },
  {
   "cell_type": "code",
   "execution_count": 33,
   "metadata": {},
   "outputs": [],
   "source": [
    "winSize = 6\n",
    "winNum = len(temp) // 6\n",
    "tmp = temp[:,1].reshape(winNum,winSize)"
   ]
  },
  {
   "cell_type": "code",
   "execution_count": 40,
   "metadata": {},
   "outputs": [
    {
     "data": {
      "text/plain": [
       "<matplotlib.axes._subplots.AxesSubplot at 0x7fdfc2ffb210>"
      ]
     },
     "execution_count": 40,
     "metadata": {},
     "output_type": "execute_result"
    },
    {
     "data": {
      "image/png": "[encoded data removed]",
      "text/plain": [
       "<Figure size 432x288 with 1 Axes>"
      ]
     },
     "metadata": {
      "needs_background": "light"
     },
     "output_type": "display_data"
    }
   ],
   "source": [
    "tempave = np.mean(tmp, axis=1)\n",
    "sb.distplot(tempave)"
   ]
  },
  {
   "cell_type": "code",
   "execution_count": 47,
   "metadata": {},
   "outputs": [
    {
     "name": "stdout",
     "output_type": "stream",
     "text": [
      "(array([2.46245737e-03, 2.46245737e-03, 4.92491475e-03, 9.84982950e-03,\n",
      "       1.47747442e-02, 2.21621164e-02, 3.52952224e-02, 5.13011953e-02,\n",
      "       5.29428336e-02, 8.49547794e-02, 1.17787544e-01, 1.43643347e-01,\n",
      "       1.74424064e-01, 2.17106659e-01, 2.58968434e-01, 2.89749151e-01,\n",
      "       3.16425773e-01, 3.50079357e-01, 4.37086184e-01, 4.42011099e-01,\n",
      "       4.40369461e-01, 4.45704785e-01, 4.62121167e-01, 5.09728677e-01,\n",
      "       5.07676629e-01, 4.80589598e-01, 4.66635673e-01, 4.39959051e-01,\n",
      "       3.88657856e-01, 3.43102394e-01, 3.00830209e-01, 2.68818263e-01,\n",
      "       2.43783280e-01, 2.44604099e-01, 2.04383962e-01, 2.04383962e-01,\n",
      "       1.85915532e-01, 1.90430037e-01, 2.03563143e-01, 1.94123723e-01,\n",
      "       1.79348979e-01, 1.95354952e-01, 1.76886521e-01, 1.72782426e-01,\n",
      "       1.81401027e-01, 1.86325941e-01, 1.63753415e-01, 1.73603245e-01,\n",
      "       1.64163825e-01, 1.54724405e-01, 1.52672357e-01, 1.34614336e-01,\n",
      "       1.41591299e-01, 1.48978671e-01, 1.46926623e-01, 1.73192835e-01,\n",
      "       1.91661266e-01, 1.80990617e-01, 1.90430037e-01, 1.97407000e-01,\n",
      "       2.02331914e-01, 2.05615191e-01, 2.17927478e-01, 2.34754270e-01,\n",
      "       2.28187717e-01, 2.59789253e-01, 2.72101540e-01, 2.81540960e-01,\n",
      "       2.84003417e-01, 2.93853247e-01, 2.98367752e-01, 3.20529868e-01,\n",
      "       3.52131405e-01, 3.81270484e-01, 3.85374579e-01, 4.41600689e-01,\n",
      "       4.46115194e-01, 4.26005126e-01, 4.28057174e-01, 3.96455637e-01,\n",
      "       3.99738914e-01, 3.76755978e-01, 3.68958197e-01, 3.25044373e-01,\n",
      "       3.12321677e-01, 2.52812290e-01, 2.11771334e-01, 1.70730378e-01,\n",
      "       1.44053756e-01, 1.09168944e-01, 7.42841308e-02, 5.82781579e-02,\n",
      "       4.47346423e-02, 4.02201371e-02, 2.66766216e-02, 1.19018773e-02,\n",
      "       6.15614344e-03, 4.92491475e-03, 2.05204781e-03, 4.10409562e-04]), array([32.9745    , 33.01902833, 33.06355667, 33.108085  , 33.15261333,\n",
      "       33.19714167, 33.24167   , 33.28619833, 33.33072667, 33.375255  ,\n",
      "       33.41978333, 33.46431167, 33.50884   , 33.55336833, 33.59789667,\n",
      "       33.642425  , 33.68695333, 33.73148167, 33.77601   , 33.82053833,\n",
      "       33.86506667, 33.909595  , 33.95412333, 33.99865167, 34.04318   ,\n",
      "       34.08770833, 34.13223667, 34.176765  , 34.22129333, 34.26582167,\n",
      "       34.31035   , 34.35487833, 34.39940667, 34.443935  , 34.48846333,\n",
      "       34.53299167, 34.57752   , 34.62204833, 34.66657667, 34.711105  ,\n",
      "       34.75563333, 34.80016167, 34.84469   , 34.88921833, 34.93374667,\n",
      "       34.978275  , 35.02280333, 35.06733167, 35.11186   , 35.15638833,\n",
      "       35.20091667, 35.245445  , 35.28997333, 35.33450167, 35.37903   ,\n",
      "       35.42355833, 35.46808667, 35.512615  , 35.55714333, 35.60167167,\n",
      "       35.6462    , 35.69072833, 35.73525667, 35.779785  , 35.82431333,\n",
      "       35.86884167, 35.91337   , 35.95789833, 36.00242667, 36.046955  ,\n",
      "       36.09148333, 36.13601167, 36.18054   , 36.22506833, 36.26959667,\n",
      "       36.314125  , 36.35865333, 36.40318167, 36.44771   , 36.49223833,\n",
      "       36.53676667, 36.581295  , 36.62582333, 36.67035167, 36.71488   ,\n",
      "       36.75940833, 36.80393667, 36.848465  , 36.89299333, 36.93752167,\n",
      "       36.98205   , 37.02657833, 37.07110667, 37.115635  , 37.16016333,\n",
      "       37.20469167, 37.24922   , 37.29374833, 37.33827667, 37.382805  ,\n",
      "       37.42733333]))\n"
     ]
    }
   ],
   "source": [
    "density = np.histogram(tempave, bins=100 ,density=True)\n",
    "print (density)"
   ]
  },
  {
   "cell_type": "code",
   "execution_count": 49,
   "metadata": {},
   "outputs": [
    {
     "data": {
      "text/plain": [
       "[<matplotlib.lines.Line2D at 0x7fdfc605ddd0>]"
      ]
     },
     "execution_count": 49,
     "metadata": {},
     "output_type": "execute_result"
    },
    {
     "data": {
      "image/png": "[encoded data removed]",
      "text/plain": [
       "<Figure size 432x288 with 1 Axes>"
      ]
     },
     "metadata": {
      "needs_background": "light"
     },
     "output_type": "display_data"
    }
   ],
   "source": [
    "a = density[0]\n",
    "b = density[1][0:-1]\n",
    "plt.plot(b,a)"
   ]
  },
  {
   "cell_type": "code",
   "execution_count": 56,
   "metadata": {},
   "outputs": [
    {
     "name": "stderr",
     "output_type": "stream",
     "text": [
      "/home/yiwen/.anaconda3/lib/python3.7/site-packages/IPython/core/interactiveshell.py:3343: RankWarning: Polyfit may be poorly conditioned\n",
      "  exec(code_obj, self.user_global_ns, self.user_ns)\n"
     ]
    }
   ],
   "source": [
    "z = np.polyfit (b,a, 15)\n",
    "fitfunc = np.poly1d(z)"
   ]
  },
  {
   "cell_type": "code",
   "execution_count": 57,
   "metadata": {},
   "outputs": [
    {
     "data": {
      "image/png": "[encoded data removed]",
      "text/plain": [
       "<Figure size 432x288 with 1 Axes>"
      ]
     },
     "metadata": {
      "needs_background": "light"
     },
     "output_type": "display_data"
    }
   ],
   "source": [
    "x = np.arange(b[0],b[-1],(b[-1]-b[0])/100)\n",
    "y = fitfunc(x)\n",
    "plt.plot(x,y)\n",
    "plt.plot(b,a)\n",
    "plt.show()"
   ]
  },
  {
   "cell_type": "code",
   "execution_count": null,
   "metadata": {},
   "outputs": [],
   "source": []
  }
 ],
 "metadata": {
  "kernelspec": {
   "display_name": "Python 3.7.6 64-bit ('.anaconda3': virtualenv)",
   "language": "python",
   "name": "python37664bitanaconda3virtualenv4d78c01da4304e74ba108b15727ee1f2"
  },
  "language_info": {
   "codemirror_mode": {
    "name": "ipython",
    "version": 3
   },
   "file_extension": ".py",
   "mimetype": "text/x-python",
   "name": "python",
   "nbconvert_exporter": "python",
   "pygments_lexer": "ipython3",
   "version": "3.7.6"
  }
 },
 "nbformat": 4,
 "nbformat_minor": 4
}
